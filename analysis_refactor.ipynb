{
 "cells": [
  {
   "cell_type": "code",
   "execution_count": 1,
   "metadata": {},
   "outputs": [],
   "source": [
    "from analysis import comparar_solucion_con_catedra\n",
    "from backtracking import solution_by_backtracking"
   ]
  },
  {
   "cell_type": "code",
   "execution_count": 2,
   "metadata": {},
   "outputs": [
    {
     "name": "stdout",
     "output_type": "stream",
     "text": [
      "n_actual: 5\n",
      "n_actual: 2\n",
      "n_actual: 1\n",
      "n_actual: 7\n",
      "n_actual: 3\n",
      "n_actual: 1\n",
      "n_actual: 2\n",
      "n_actual: 10\n",
      "n_actual: 5\n",
      "n_actual: 2\n",
      "n_actual: 3\n",
      "n_actual: 10\n",
      "n_actual: 5\n",
      "n_actual: 7\n",
      "n_actual: 6\n",
      "n_actual: 10\n",
      "n_actual: 5\n",
      "n_actual: 7\n",
      "n_actual: 9\n",
      "n_actual: 15\n",
      "n_actual: 7\n",
      "n_actual: 3\n",
      "n_actual: 5\n",
      "n_actual: 4\n",
      "n_actual: 20\n",
      "n_actual: 10\n",
      "n_actual: 5\n",
      "n_actual: 2\n",
      "n_actual: 3\n",
      "n_actual: 4\n",
      "n_actual: 50\n",
      "n_actual: 25\n",
      "n_actual: 12\n",
      "n_actual: 6\n",
      "n_actual: 3\n",
      "n_actual: 4\n",
      "n_actual: 5\n",
      "n_actual: 75\n",
      "n_actual: 37\n",
      "n_actual: 18\n",
      "n_actual: 9\n",
      "n_actual: 4\n",
      "n_actual: 6\n",
      "n_actual: 8\n",
      "n_actual: 7\n",
      "n_actual: 100\n",
      "n_actual: 50\n",
      "n_actual: 25\n",
      "n_actual: 12\n",
      "n_actual: 6\n",
      "n_actual: 9\n",
      "n_actual: 7\n",
      "n_actual: 8\n",
      "n_actual: 200\n",
      "n_actual: 100\n",
      "n_actual: 50\n",
      "n_actual: 25\n",
      "n_actual: 12\n",
      "n_actual: 6\n",
      "n_actual: 9\n"
     ]
    }
   ],
   "source": [
    "DIRECTORIO = \"datos/sets_catedra/\"\n",
    "df_bt = comparar_solucion_con_catedra(DIRECTORIO, solution_by_backtracking, 'Backtracking')"
   ]
  },
  {
   "cell_type": "code",
   "execution_count": null,
   "metadata": {},
   "outputs": [],
   "source": [
    "df_bt"
   ]
  }
 ],
 "metadata": {
  "kernelspec": {
   "display_name": "Python 3",
   "language": "python",
   "name": "python3"
  },
  "language_info": {
   "codemirror_mode": {
    "name": "ipython",
    "version": 3
   },
   "file_extension": ".py",
   "mimetype": "text/x-python",
   "name": "python",
   "nbconvert_exporter": "python",
   "pygments_lexer": "ipython3",
   "version": "3.11.0"
  }
 },
 "nbformat": 4,
 "nbformat_minor": 2
}
