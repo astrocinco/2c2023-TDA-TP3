{
 "cells": [
  {
   "cell_type": "code",
   "execution_count": 1,
   "metadata": {},
   "outputs": [],
   "source": [
    "from analysis import get_execution_time, comparar_soluciones_PL_vs_PLE\n",
    "from graphs import make_execution_time_graph, make_comparation_time_graph\n",
    "from backtracking import solution_by_backtracking\n",
    "from lineal_programming import solution_by_lineal_programming"
   ]
  },
  {
   "cell_type": "markdown",
   "metadata": {},
   "source": [
    "# Tiempos de Backtracking"
   ]
  },
  {
   "cell_type": "code",
   "execution_count": null,
   "metadata": {},
   "outputs": [],
   "source": [
    "bt_time = get_execution_time(solution_by_backtracking, max=50, rep=50, size=1)\n",
    "make_execution_time_graph(bt_time)"
   ]
  },
  {
   "cell_type": "markdown",
   "metadata": {},
   "source": [
    "# Tiempos de PLE"
   ]
  },
  {
   "cell_type": "code",
   "execution_count": null,
   "metadata": {},
   "outputs": [],
   "source": [
    "pl_time = get_execution_time(solution_by_lineal_programming, max=50, rep=50, size=1)\n",
    "make_execution_time_graph(pl_time)"
   ]
  },
  {
   "cell_type": "markdown",
   "metadata": {},
   "source": [
    "# Comparación entre Backtracking y PLE"
   ]
  },
  {
   "cell_type": "code",
   "execution_count": null,
   "metadata": {},
   "outputs": [],
   "source": [
    "make_comparation_time_graph(bt_time, pl_time, \"Backtracking\", \"PLE\")"
   ]
  },
  {
   "cell_type": "markdown",
   "metadata": {},
   "source": [
    "# Comparación entre PLE y PL por aproximación"
   ]
  },
  {
   "cell_type": "code",
   "execution_count": null,
   "metadata": {},
   "outputs": [],
   "source": [
    "ARCHIVO = \"datos/sets_catedra/200.txt\"\n",
    "comparar_soluciones_PL_vs_PLE(ARCHIVO)"
   ]
  }
 ],
 "metadata": {
  "kernelspec": {
   "display_name": "Python 3",
   "language": "python",
   "name": "python3"
  },
  "language_info": {
   "codemirror_mode": {
    "name": "ipython",
    "version": 3
   },
   "file_extension": ".py",
   "mimetype": "text/x-python",
   "name": "python",
   "nbconvert_exporter": "python",
   "pygments_lexer": "ipython3",
   "version": "3.10.12"
  }
 },
 "nbformat": 4,
 "nbformat_minor": 2
}
