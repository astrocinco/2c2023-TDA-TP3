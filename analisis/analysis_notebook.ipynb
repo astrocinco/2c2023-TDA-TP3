{
 "cells": [
  {
   "cell_type": "code",
   "execution_count": 6,
   "metadata": {},
   "outputs": [
    {
     "ename": "ModuleNotFoundError",
     "evalue": "No module named 'backtracking'",
     "output_type": "error",
     "traceback": [
      "\u001b[0;31m---------------------------------------------------------------------------\u001b[0m",
      "\u001b[0;31mModuleNotFoundError\u001b[0m                       Traceback (most recent call last)",
      "\u001b[1;32m/home/mgonzalezp/Documents/fiuba/tda/2c2023-TDA-TP3/analisis/analysis_notebook.ipynb Cell 1\u001b[0m line \u001b[0;36m2\n\u001b[1;32m      <a href='vscode-notebook-cell:/home/mgonzalezp/Documents/fiuba/tda/2c2023-TDA-TP3/analisis/analysis_notebook.ipynb#W6sZmlsZQ%3D%3D?line=0'>1</a>\u001b[0m \u001b[39mimport\u001b[39;00m \u001b[39mgraphs\u001b[39;00m \u001b[39mas\u001b[39;00m \u001b[39mg\u001b[39;00m\n\u001b[0;32m----> <a href='vscode-notebook-cell:/home/mgonzalezp/Documents/fiuba/tda/2c2023-TDA-TP3/analisis/analysis_notebook.ipynb#W6sZmlsZQ%3D%3D?line=1'>2</a>\u001b[0m \u001b[39mimport\u001b[39;00m \u001b[39mbacktracking\u001b[39;00m\u001b[39m.\u001b[39;00m\u001b[39mbacktracking\u001b[39;00m \u001b[39mas\u001b[39;00m \u001b[39mb\u001b[39;00m\n\u001b[1;32m      <a href='vscode-notebook-cell:/home/mgonzalezp/Documents/fiuba/tda/2c2023-TDA-TP3/analisis/analysis_notebook.ipynb#W6sZmlsZQ%3D%3D?line=2'>3</a>\u001b[0m \u001b[39mimport\u001b[39;00m \u001b[39mprog_lineal\u001b[39;00m\u001b[39m.\u001b[39;00m\u001b[39mlineal_programming\u001b[39;00m \u001b[39mas\u001b[39;00m \u001b[39mpl\u001b[39;00m\n\u001b[1;32m      <a href='vscode-notebook-cell:/home/mgonzalezp/Documents/fiuba/tda/2c2023-TDA-TP3/analisis/analysis_notebook.ipynb#W6sZmlsZQ%3D%3D?line=3'>4</a>\u001b[0m \u001b[39mimport\u001b[39;00m \u001b[39manalysis\u001b[39;00m \u001b[39mas\u001b[39;00m \u001b[39ma\u001b[39;00m\n",
      "\u001b[0;31mModuleNotFoundError\u001b[0m: No module named 'backtracking'"
     ]
    }
   ],
   "source": [
    "import graphs as g\n",
    "import backtracking.backtracking as b\n",
    "import prog_lineal.lineal_programming as pl\n",
    "import analysis as a"
   ]
  },
  {
   "cell_type": "markdown",
   "metadata": {},
   "source": [
    "# Tiempos de Backtracking"
   ]
  },
  {
   "cell_type": "code",
   "execution_count": null,
   "metadata": {},
   "outputs": [],
   "source": [
    "bt_time = a.get_execution_time(b.solution_by_backtracking, max=100, rep=200, size=10)\n",
    "g.make_execution_time_graph(bt_time)"
   ]
  },
  {
   "cell_type": "markdown",
   "metadata": {},
   "source": [
    "# Tiempos de PLE"
   ]
  },
  {
   "cell_type": "code",
   "execution_count": null,
   "metadata": {},
   "outputs": [],
   "source": [
    "pl_time = a.get_execution_time(pl.solution_by_lineal_programming, max=100, rep=200, size=10)\n",
    "g.make_execution_time_graph(pl_time)"
   ]
  },
  {
   "cell_type": "markdown",
   "metadata": {},
   "source": [
    "# Comparación entre Backtracking y PLE"
   ]
  },
  {
   "cell_type": "code",
   "execution_count": null,
   "metadata": {},
   "outputs": [],
   "source": [
    "g.make_comparation_time_graph(bt_time, pl_time, \"Backtracking\", \"PLE\")"
   ]
  },
  {
   "cell_type": "markdown",
   "metadata": {},
   "source": [
    "# Comparación entre PLE y PL por aproximación"
   ]
  },
  {
   "cell_type": "code",
   "execution_count": 3,
   "metadata": {},
   "outputs": [
    {
     "ename": "NameError",
     "evalue": "name 'a' is not defined",
     "output_type": "error",
     "traceback": [
      "\u001b[0;31m---------------------------------------------------------------------------\u001b[0m",
      "\u001b[0;31mNameError\u001b[0m                                 Traceback (most recent call last)",
      "\u001b[1;32m/home/mgonzalezp/Documents/fiuba/tda/2c2023-TDA-TP3/analysis_notebook.ipynb Cell 2\u001b[0m line \u001b[0;36m2\n\u001b[1;32m      <a href='vscode-notebook-cell:/home/mgonzalezp/Documents/fiuba/tda/2c2023-TDA-TP3/analysis_notebook.ipynb#W2sZmlsZQ%3D%3D?line=0'>1</a>\u001b[0m ARCHIVO \u001b[39m=\u001b[39m \u001b[39m\"\u001b[39m\u001b[39mdatos\u001b[39m\u001b[39m\\\u001b[39m\u001b[39msets_catedra\u001b[39m\u001b[39m\\\\\u001b[39;00m\u001b[39m200.txt\u001b[39m\u001b[39m\"\u001b[39m\n\u001b[0;32m----> <a href='vscode-notebook-cell:/home/mgonzalezp/Documents/fiuba/tda/2c2023-TDA-TP3/analysis_notebook.ipynb#W2sZmlsZQ%3D%3D?line=1'>2</a>\u001b[0m a\u001b[39m.\u001b[39mcomparar_soluciones_PL_vs_PLE(ARCHIVO)\n",
      "\u001b[0;31mNameError\u001b[0m: name 'a' is not defined"
     ]
    }
   ],
   "source": [
    "ARCHIVO = \"datos\\sets_catedra\\\\200.txt\"\n",
    "a.comparar_soluciones_PL_vs_PLE(ARCHIVO)"
   ]
  }
 ],
 "metadata": {
  "kernelspec": {
   "display_name": "Python 3",
   "language": "python",
   "name": "python3"
  },
  "language_info": {
   "codemirror_mode": {
    "name": "ipython",
    "version": 3
   },
   "file_extension": ".py",
   "mimetype": "text/x-python",
   "name": "python",
   "nbconvert_exporter": "python",
   "pygments_lexer": "ipython3",
   "version": "3.10.12"
  }
 },
 "nbformat": 4,
 "nbformat_minor": 2
}
