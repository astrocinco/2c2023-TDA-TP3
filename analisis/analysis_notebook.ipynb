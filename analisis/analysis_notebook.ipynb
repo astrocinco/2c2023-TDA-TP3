{
 "cells": [
  {
   "cell_type": "code",
   "execution_count": 25,
   "metadata": {},
   "outputs": [
    {
     "ename": "ModuleNotFoundError",
     "evalue": "No module named 'aproximation'",
     "output_type": "error",
     "traceback": [
      "\u001b[0;31m---------------------------------------------------------------------------\u001b[0m",
      "\u001b[0;31mModuleNotFoundError\u001b[0m                       Traceback (most recent call last)",
      "\u001b[1;32m/home/mgonzalezp/Documents/fiuba/tda/2c2023-TDA-TP3/analisis/analysis_notebook.ipynb Cell 1\u001b[0m line \u001b[0;36m3\n\u001b[1;32m      <a href='vscode-notebook-cell:/home/mgonzalezp/Documents/fiuba/tda/2c2023-TDA-TP3/analisis/analysis_notebook.ipynb#X14sZmlsZQ%3D%3D?line=0'>1</a>\u001b[0m \u001b[39mimport\u001b[39;00m \u001b[39mgraphs\u001b[39;00m \u001b[39mas\u001b[39;00m \u001b[39mg\u001b[39;00m\n\u001b[1;32m      <a href='vscode-notebook-cell:/home/mgonzalezp/Documents/fiuba/tda/2c2023-TDA-TP3/analisis/analysis_notebook.ipynb#X14sZmlsZQ%3D%3D?line=1'>2</a>\u001b[0m sys\u001b[39m.\u001b[39mpath\u001b[39m.\u001b[39mappend(\u001b[39m'\u001b[39m\u001b[39maproximacion\u001b[39m\u001b[39m'\u001b[39m)\n\u001b[0;32m----> <a href='vscode-notebook-cell:/home/mgonzalezp/Documents/fiuba/tda/2c2023-TDA-TP3/analisis/analysis_notebook.ipynb#X14sZmlsZQ%3D%3D?line=2'>3</a>\u001b[0m \u001b[39mimport\u001b[39;00m \u001b[39manalysis\u001b[39;00m \u001b[39mas\u001b[39;00m \u001b[39ma\u001b[39;00m\n",
      "File \u001b[0;32m~/Documents/fiuba/tda/2c2023-TDA-TP3/analisis/analysis.py:7\u001b[0m\n\u001b[1;32m      3\u001b[0m \u001b[39mimport\u001b[39;00m \u001b[39mpandas\u001b[39;00m \u001b[39mas\u001b[39;00m \u001b[39mpd\u001b[39;00m\n\u001b[1;32m      5\u001b[0m sys\u001b[39m.\u001b[39mpath\u001b[39m.\u001b[39mappend(\u001b[39m'\u001b[39m\u001b[39maproximacion\u001b[39m\u001b[39m'\u001b[39m)\n\u001b[0;32m----> 7\u001b[0m \u001b[39mfrom\u001b[39;00m \u001b[39maproximation\u001b[39;00m \u001b[39mimport\u001b[39;00m map_file_and_aprox_by_lp\n\u001b[1;32m      8\u001b[0m \u001b[39m#import aproximacion.aproximation as a\u001b[39;00m\n\u001b[1;32m      9\u001b[0m \u001b[39mimport\u001b[39;00m \u001b[39mprog_lineal\u001b[39;00m\u001b[39m.\u001b[39;00m\u001b[39mlineal_programming\u001b[39;00m \u001b[39mas\u001b[39;00m \u001b[39mpl\u001b[39;00m\n",
      "\u001b[0;31mModuleNotFoundError\u001b[0m: No module named 'aproximation'"
     ]
    }
   ],
   "source": [
    "\n",
    "import graphs as g\n",
    "import sys\n",
    "sys.path.append('aproximacion')\n",
    "import analysis as a"
   ]
  },
  {
   "cell_type": "code",
   "execution_count": 15,
   "metadata": {},
   "outputs": [
    {
     "ename": "ModuleNotFoundError",
     "evalue": "No module named 'aproximacion'",
     "output_type": "error",
     "traceback": [
      "\u001b[0;31m---------------------------------------------------------------------------\u001b[0m",
      "\u001b[0;31mModuleNotFoundError\u001b[0m                       Traceback (most recent call last)",
      "\u001b[1;32m/home/mgonzalezp/Documents/fiuba/tda/2c2023-TDA-TP3/analisis/analysis_notebook.ipynb Cell 1\u001b[0m line \u001b[0;36m5\n\u001b[1;32m      <a href='vscode-notebook-cell:/home/mgonzalezp/Documents/fiuba/tda/2c2023-TDA-TP3/analisis/analysis_notebook.ipynb#X12sZmlsZQ%3D%3D?line=1'>2</a>\u001b[0m sys\u001b[39m.\u001b[39mpath\u001b[39m.\u001b[39minsert(\u001b[39m1\u001b[39m, \u001b[39m'\u001b[39m\u001b[39m'\u001b[39m)\n\u001b[1;32m      <a href='vscode-notebook-cell:/home/mgonzalezp/Documents/fiuba/tda/2c2023-TDA-TP3/analisis/analysis_notebook.ipynb#X12sZmlsZQ%3D%3D?line=2'>3</a>\u001b[0m \u001b[39m#import backtracking \u001b[39;00m\n\u001b[1;32m      <a href='vscode-notebook-cell:/home/mgonzalezp/Documents/fiuba/tda/2c2023-TDA-TP3/analisis/analysis_notebook.ipynb#X12sZmlsZQ%3D%3D?line=3'>4</a>\u001b[0m \u001b[39m#from prog_lineal.lineal_programming import solution_by_lineal_programming\u001b[39;00m\n\u001b[0;32m----> <a href='vscode-notebook-cell:/home/mgonzalezp/Documents/fiuba/tda/2c2023-TDA-TP3/analisis/analysis_notebook.ipynb#X12sZmlsZQ%3D%3D?line=4'>5</a>\u001b[0m \u001b[39mimport\u001b[39;00m \u001b[39manalysis\u001b[39;00m \u001b[39mas\u001b[39;00m \u001b[39ma\u001b[39;00m\n\u001b[1;32m      <a href='vscode-notebook-cell:/home/mgonzalezp/Documents/fiuba/tda/2c2023-TDA-TP3/analisis/analysis_notebook.ipynb#X12sZmlsZQ%3D%3D?line=5'>6</a>\u001b[0m \u001b[39mimport\u001b[39;00m \u001b[39mgraphs\u001b[39;00m \u001b[39mas\u001b[39;00m \u001b[39mg\u001b[39;00m\n",
      "File \u001b[0;32m~/Documents/fiuba/tda/2c2023-TDA-TP3/analisis/analysis.py:7\u001b[0m\n\u001b[1;32m      3\u001b[0m \u001b[39mimport\u001b[39;00m \u001b[39mpandas\u001b[39;00m \u001b[39mas\u001b[39;00m \u001b[39mpd\u001b[39;00m\n\u001b[1;32m      5\u001b[0m sys\u001b[39m.\u001b[39mpath\u001b[39m.\u001b[39minsert(\u001b[39m1\u001b[39m, \u001b[39m'\u001b[39m\u001b[39m'\u001b[39m)\n\u001b[0;32m----> 7\u001b[0m \u001b[39mfrom\u001b[39;00m \u001b[39maproximacion\u001b[39;00m\u001b[39m.\u001b[39;00m\u001b[39maproximation\u001b[39;00m \u001b[39mimport\u001b[39;00m map_file_and_aprox_by_lp\n\u001b[1;32m      8\u001b[0m \u001b[39m#import aproximacion.aproximation as a\u001b[39;00m\n\u001b[1;32m      9\u001b[0m \u001b[39mimport\u001b[39;00m \u001b[39mprog_lineal\u001b[39;00m\u001b[39m.\u001b[39;00m\u001b[39mlineal_programming\u001b[39;00m \u001b[39mas\u001b[39;00m \u001b[39mpl\u001b[39;00m\n",
      "\u001b[0;31mModuleNotFoundError\u001b[0m: No module named 'aproximacion'"
     ]
    }
   ],
   "source": [
    "import sys\n",
    "sys.path.insert(1, '')\n",
    "#import backtracking \n",
    "#from prog_lineal.lineal_programming import solution_by_lineal_programming\n",
    "\n",
    "import graphs as g"
   ]
  },
  {
   "cell_type": "markdown",
   "metadata": {},
   "source": [
    "# Tiempos de Backtracking"
   ]
  },
  {
   "cell_type": "code",
   "execution_count": null,
   "metadata": {},
   "outputs": [],
   "source": [
    "bt_time = a.get_execution_time(backtracking.solution_by_backtracking, max=100, rep=200, size=10)\n",
    "g.make_execution_time_graph(bt_time)"
   ]
  },
  {
   "cell_type": "markdown",
   "metadata": {},
   "source": [
    "# Tiempos de PLE"
   ]
  },
  {
   "cell_type": "code",
   "execution_count": null,
   "metadata": {},
   "outputs": [],
   "source": [
    "pl_time = a.get_execution_time(solution_by_lineal_programming, max=100, rep=200, size=10)\n",
    "g.make_execution_time_graph(pl_time)"
   ]
  },
  {
   "cell_type": "markdown",
   "metadata": {},
   "source": [
    "# Comparación entre Backtracking y PLE"
   ]
  },
  {
   "cell_type": "code",
   "execution_count": null,
   "metadata": {},
   "outputs": [],
   "source": [
    "g.make_comparation_time_graph(bt_time, pl_time, \"Backtracking\", \"PLE\")"
   ]
  },
  {
   "cell_type": "markdown",
   "metadata": {},
   "source": [
    "# Comparación entre PLE y PL por aproximación"
   ]
  },
  {
   "cell_type": "code",
   "execution_count": null,
   "metadata": {},
   "outputs": [],
   "source": [
    "ARCHIVO = \"datos/sets_catedra/200.txt\"\n",
    "a.comparar_soluciones_PL_vs_PLE(ARCHIVO)"
   ]
  }
 ],
 "metadata": {
  "kernelspec": {
   "display_name": "Python 3",
   "language": "python",
   "name": "python3"
  },
  "language_info": {
   "codemirror_mode": {
    "name": "ipython",
    "version": 3
   },
   "file_extension": ".py",
   "mimetype": "text/x-python",
   "name": "python",
   "nbconvert_exporter": "python",
   "pygments_lexer": "ipython3",
   "version": "3.10.12"
  }
 },
 "nbformat": 4,
 "nbformat_minor": 2
}
